{
 "cells": [
  {
   "cell_type": "code",
   "execution_count": 1,
   "metadata": {},
   "outputs": [],
   "source": [
    "import os\n",
    "import openai\n",
    "from dotenv import load_dotenv\n",
    "\n",
    "load_dotenv()\n",
    "\n",
    "openai_api_key = os.getenv(\"OPENAI_API_KEY\")"
   ]
  },
  {
   "cell_type": "markdown",
   "metadata": {},
   "source": [
    "# Loader de PDF"
   ]
  },
  {
   "cell_type": "code",
   "execution_count": 2,
   "metadata": {},
   "outputs": [
    {
     "name": "stdout",
     "output_type": "stream",
     "text": [
      "Requirement already satisfied: pypdf in c:\\users\\diasd\\anaconda3\\envs\\chatbot\\lib\\site-packages (4.3.1)\n"
     ]
    }
   ],
   "source": [
    "!pip install pypdf"
   ]
  },
  {
   "cell_type": "code",
   "execution_count": 3,
   "metadata": {},
   "outputs": [],
   "source": [
    "from langchain.document_loaders import PyPDFLoader\n",
    "\n",
    "loader = PyPDFLoader(\"Currículo para vaga de Analista ou Cientista de Dados.pdf\")\n",
    "pages = loader.load()"
   ]
  },
  {
   "cell_type": "markdown",
   "metadata": {},
   "source": [
    "Cada página do PDF é um `Document`\n",
    "\n",
    "Um `Documento` contem texto(`page_content`) e `metadata`\n",
    "\n",
    "por exemplo:"
   ]
  },
  {
   "cell_type": "code",
   "execution_count": 4,
   "metadata": {},
   "outputs": [
    {
     "data": {
      "text/plain": [
       "[Document(metadata={'source': 'Currículo para vaga de Analista ou Cientista de Dados.pdf', 'page': 0}, page_content='Diogo Dias\\nEnsino\\nUniversidade Federal da Paraíba , Bacharelado em Engenharia Química Agosto 2022 – Dezembro\\n2026\\n•Competências: Análise de Dados, Programação, Inteligência Artificial, Álgebra Linear, Estatística, Cálculo\\nNumérico, Séries Temporais, Introdução a Ciência de Dados.\\nUniversidade Cruzeiro do Sul Virtual , Tecnólogo em Ciência de Dados Agosto 2024 – Agosto 2026\\n•Competências: Modelagem de Dados, Programação, Inteligência Artificial, Inferência Estatística, Probabilidade\\ne Estatística, Machine Learning, Deep Learning.\\nExperiências\\nIniciação Científica , Universidade Federal da Paraíba Dezembro de 2023 – Até o\\nMomento\\n•Pesquisa de Algoritmos de Machine Learning para otimização do processo experimental em pirólise.\\n•Pirólise de biomassas com a perspectiva de produzir biocombustíveis com baixa pegada de carbono.\\n•Análise de dados experimentais.\\nExperiências Adicionais\\nComunicador: Tenho dois projetos que visam compartilhar conhecimento de programação e ciência de dados de\\nforma gratuita no YouTube (Programação Orientada a Café) e no Instagram (diodias.ds).\\nEquipe de Robótica: Durante o ensino médio trabalhei na integração de novos alunos na equipe de robótica,\\nauxiliando na programação dos robôs.\\nProjetos\\nAnálise dos Microdados do Enem github.com/DiDevv/UFPB-\\nCiencia-de-Dados\\n•Análise de Impacto Socioeconômico e Étnico nos Microdados do Enem 2022: Estudo detalhado sobre como a\\nrenda e a cor dos participantes influenciam seu desempenho no exame.\\n•Ferramentas e bibliotecas utilizadas: Python, Matplotlib, Seaborn, Numpy, Pandas, Scikitlearn.\\nPredição de Lucros com Séries Temporais e Classificação de possíveis Clientes\\nChurn https://github.com/DiDevv/Portifolio-\\nData-Scientist\\n•Realizar análises exploratórias, prescritivas e preditivas utilizando técnicas de séries temporais e estatística\\ndescritiva para compreender o comportamento histórico e prever lucros futuros. Identificar padrões de\\ndesempenho dos colaboradores e caracterizar o comportamento de churn dos clientes, visando proporcionar\\ninsights valiosos para decisões estratégicas.\\n•Ferramentas e bibliotecas utilizadas: Python, Numpy, Pandas, Plotly, Matplot, Statsmodels, Pycaret.\\nTecnologias\\nLinguagens: Python, SQL, R, Julia, JavaScript, Java\\nBibliotecas: Pandas, Numpy, Matplot, scikit-learn, Pycaret, Statsmodels, Postgre, MySql')]"
      ]
     },
     "execution_count": 4,
     "metadata": {},
     "output_type": "execute_result"
    }
   ],
   "source": [
    "pages"
   ]
  },
  {
   "cell_type": "code",
   "execution_count": 5,
   "metadata": {},
   "outputs": [
    {
     "data": {
      "text/plain": [
       "1"
      ]
     },
     "execution_count": 5,
     "metadata": {},
     "output_type": "execute_result"
    }
   ],
   "source": [
    "# Número de páginas\n",
    "len(pages)"
   ]
  },
  {
   "cell_type": "code",
   "execution_count": 6,
   "metadata": {},
   "outputs": [
    {
     "data": {
      "text/plain": [
       "Document(metadata={'source': 'Currículo para vaga de Analista ou Cientista de Dados.pdf', 'page': 0}, page_content='Diogo Dias\\nEnsino\\nUniversidade Federal da Paraíba , Bacharelado em Engenharia Química Agosto 2022 – Dezembro\\n2026\\n•Competências: Análise de Dados, Programação, Inteligência Artificial, Álgebra Linear, Estatística, Cálculo\\nNumérico, Séries Temporais, Introdução a Ciência de Dados.\\nUniversidade Cruzeiro do Sul Virtual , Tecnólogo em Ciência de Dados Agosto 2024 – Agosto 2026\\n•Competências: Modelagem de Dados, Programação, Inteligência Artificial, Inferência Estatística, Probabilidade\\ne Estatística, Machine Learning, Deep Learning.\\nExperiências\\nIniciação Científica , Universidade Federal da Paraíba Dezembro de 2023 – Até o\\nMomento\\n•Pesquisa de Algoritmos de Machine Learning para otimização do processo experimental em pirólise.\\n•Pirólise de biomassas com a perspectiva de produzir biocombustíveis com baixa pegada de carbono.\\n•Análise de dados experimentais.\\nExperiências Adicionais\\nComunicador: Tenho dois projetos que visam compartilhar conhecimento de programação e ciência de dados de\\nforma gratuita no YouTube (Programação Orientada a Café) e no Instagram (diodias.ds).\\nEquipe de Robótica: Durante o ensino médio trabalhei na integração de novos alunos na equipe de robótica,\\nauxiliando na programação dos robôs.\\nProjetos\\nAnálise dos Microdados do Enem github.com/DiDevv/UFPB-\\nCiencia-de-Dados\\n•Análise de Impacto Socioeconômico e Étnico nos Microdados do Enem 2022: Estudo detalhado sobre como a\\nrenda e a cor dos participantes influenciam seu desempenho no exame.\\n•Ferramentas e bibliotecas utilizadas: Python, Matplotlib, Seaborn, Numpy, Pandas, Scikitlearn.\\nPredição de Lucros com Séries Temporais e Classificação de possíveis Clientes\\nChurn https://github.com/DiDevv/Portifolio-\\nData-Scientist\\n•Realizar análises exploratórias, prescritivas e preditivas utilizando técnicas de séries temporais e estatística\\ndescritiva para compreender o comportamento histórico e prever lucros futuros. Identificar padrões de\\ndesempenho dos colaboradores e caracterizar o comportamento de churn dos clientes, visando proporcionar\\ninsights valiosos para decisões estratégicas.\\n•Ferramentas e bibliotecas utilizadas: Python, Numpy, Pandas, Plotly, Matplot, Statsmodels, Pycaret.\\nTecnologias\\nLinguagens: Python, SQL, R, Julia, JavaScript, Java\\nBibliotecas: Pandas, Numpy, Matplot, scikit-learn, Pycaret, Statsmodels, Postgre, MySql')"
      ]
     },
     "execution_count": 6,
     "metadata": {},
     "output_type": "execute_result"
    }
   ],
   "source": [
    "# Se o doc tem várias páginas, é possível selecionar alguma em específico\n",
    "page = pages[0]\n",
    "page"
   ]
  },
  {
   "cell_type": "markdown",
   "metadata": {},
   "source": [
    "Aqui no caso, estou consultando da página selecionada lá em cima, o conteúdo do primeiro caractere até o 500. "
   ]
  },
  {
   "cell_type": "code",
   "execution_count": 7,
   "metadata": {},
   "outputs": [
    {
     "name": "stdout",
     "output_type": "stream",
     "text": [
      "Diogo Dias\n",
      "Ensino\n",
      "Universidade Federal da Paraíba , Bacharelado em Engenharia Química Agosto 2022 – Dezembro\n",
      "2026\n",
      "•Competências: Análise de Dados, Programação, Inteligência Artificial, Álgebra Linear, Estatística, Cálculo\n",
      "Numérico, Séries Temporais, Introdução a Ciência de Dados.\n",
      "Universidade Cruzeiro do Sul Virtual , Tecnólogo em Ciência de Dados Agosto 2024 – Agosto 2026\n",
      "•Competências: Modelagem de Dados, Programação, Inteligência Artificial, Inferência Estatística, Probabilidade\n",
      "e Estatística\n"
     ]
    }
   ],
   "source": [
    "print(page.page_content[0:500])"
   ]
  },
  {
   "cell_type": "markdown",
   "metadata": {},
   "source": [
    "Aqui estou observando todo o conteúdo da página"
   ]
  },
  {
   "cell_type": "code",
   "execution_count": 8,
   "metadata": {},
   "outputs": [
    {
     "name": "stdout",
     "output_type": "stream",
     "text": [
      "Diogo Dias\n",
      "Ensino\n",
      "Universidade Federal da Paraíba , Bacharelado em Engenharia Química Agosto 2022 – Dezembro\n",
      "2026\n",
      "•Competências: Análise de Dados, Programação, Inteligência Artificial, Álgebra Linear, Estatística, Cálculo\n",
      "Numérico, Séries Temporais, Introdução a Ciência de Dados.\n",
      "Universidade Cruzeiro do Sul Virtual , Tecnólogo em Ciência de Dados Agosto 2024 – Agosto 2026\n",
      "•Competências: Modelagem de Dados, Programação, Inteligência Artificial, Inferência Estatística, Probabilidade\n",
      "e Estatística, Machine Learning, Deep Learning.\n",
      "Experiências\n",
      "Iniciação Científica , Universidade Federal da Paraíba Dezembro de 2023 – Até o\n",
      "Momento\n",
      "•Pesquisa de Algoritmos de Machine Learning para otimização do processo experimental em pirólise.\n",
      "•Pirólise de biomassas com a perspectiva de produzir biocombustíveis com baixa pegada de carbono.\n",
      "•Análise de dados experimentais.\n",
      "Experiências Adicionais\n",
      "Comunicador: Tenho dois projetos que visam compartilhar conhecimento de programação e ciência de dados de\n",
      "forma gratuita no YouTube (Programação Orientada a Café) e no Instagram (diodias.ds).\n",
      "Equipe de Robótica: Durante o ensino médio trabalhei na integração de novos alunos na equipe de robótica,\n",
      "auxiliando na programação dos robôs.\n",
      "Projetos\n",
      "Análise dos Microdados do Enem github.com/DiDevv/UFPB-\n",
      "Ciencia-de-Dados\n",
      "•Análise de Impacto Socioeconômico e Étnico nos Microdados do Enem 2022: Estudo detalhado sobre como a\n",
      "renda e a cor dos participantes influenciam seu desempenho no exame.\n",
      "•Ferramentas e bibliotecas utilizadas: Python, Matplotlib, Seaborn, Numpy, Pandas, Scikitlearn.\n",
      "Predição de Lucros com Séries Temporais e Classificação de possíveis Clientes\n",
      "Churn https://github.com/DiDevv/Portifolio-\n",
      "Data-Scientist\n",
      "•Realizar análises exploratórias, prescritivas e preditivas utilizando técnicas de séries temporais e estatística\n",
      "descritiva para compreender o comportamento histórico e prever lucros futuros. Identificar padrões de\n",
      "desempenho dos colaboradores e caracterizar o comportamento de churn dos clientes, visando proporcionar\n",
      "insights valiosos para decisões estratégicas.\n",
      "•Ferramentas e bibliotecas utilizadas: Python, Numpy, Pandas, Plotly, Matplot, Statsmodels, Pycaret.\n",
      "Tecnologias\n",
      "Linguagens: Python, SQL, R, Julia, JavaScript, Java\n",
      "Bibliotecas: Pandas, Numpy, Matplot, scikit-learn, Pycaret, Statsmodels, Postgre, MySql\n"
     ]
    }
   ],
   "source": [
    "print(page.page_content)"
   ]
  },
  {
   "cell_type": "markdown",
   "metadata": {},
   "source": [
    "Aqui estou consultando o título do arquivo e a quantidade de página.\n",
    "Ou seja, todo o metadata."
   ]
  },
  {
   "cell_type": "code",
   "execution_count": 9,
   "metadata": {},
   "outputs": [
    {
     "data": {
      "text/plain": [
       "{'source': 'Currículo para vaga de Analista ou Cientista de Dados.pdf',\n",
       " 'page': 0}"
      ]
     },
     "execution_count": 9,
     "metadata": {},
     "output_type": "execute_result"
    }
   ],
   "source": [
    "page.metadata"
   ]
  },
  {
   "cell_type": "markdown",
   "metadata": {},
   "source": [
    "# Loader do Youtube"
   ]
  },
  {
   "cell_type": "code",
   "execution_count": 10,
   "metadata": {},
   "outputs": [],
   "source": [
    "from langchain.document_loaders.generic import GenericLoader\n",
    "from langchain.document_loaders.parsers import OpenAIWhisperParser\n",
    "from langchain.document_loaders.blob_loaders.youtube_audio import YoutubeAudioLoader"
   ]
  },
  {
   "cell_type": "code",
   "execution_count": 11,
   "metadata": {},
   "outputs": [
    {
     "name": "stdout",
     "output_type": "stream",
     "text": [
      "Requirement already satisfied: yt_dlp in c:\\users\\diasd\\anaconda3\\envs\\chatbot\\lib\\site-packages (2024.8.6)\n",
      "Requirement already satisfied: brotli in c:\\users\\diasd\\anaconda3\\envs\\chatbot\\lib\\site-packages (from yt_dlp) (1.0.9)\n",
      "Requirement already satisfied: certifi in c:\\users\\diasd\\anaconda3\\envs\\chatbot\\lib\\site-packages (from yt_dlp) (2024.7.4)\n",
      "Requirement already satisfied: mutagen in c:\\users\\diasd\\anaconda3\\envs\\chatbot\\lib\\site-packages (from yt_dlp) (1.47.0)\n",
      "Requirement already satisfied: pycryptodomex in c:\\users\\diasd\\anaconda3\\envs\\chatbot\\lib\\site-packages (from yt_dlp) (3.20.0)\n",
      "Requirement already satisfied: requests<3,>=2.32.2 in c:\\users\\diasd\\anaconda3\\envs\\chatbot\\lib\\site-packages (from yt_dlp) (2.32.3)\n",
      "Requirement already satisfied: urllib3<3,>=1.26.17 in c:\\users\\diasd\\anaconda3\\envs\\chatbot\\lib\\site-packages (from yt_dlp) (2.2.2)\n",
      "Requirement already satisfied: websockets>=12.0 in c:\\users\\diasd\\anaconda3\\envs\\chatbot\\lib\\site-packages (from yt_dlp) (13.0.1)\n",
      "Requirement already satisfied: charset-normalizer<4,>=2 in c:\\users\\diasd\\anaconda3\\envs\\chatbot\\lib\\site-packages (from requests<3,>=2.32.2->yt_dlp) (3.3.2)\n",
      "Requirement already satisfied: idna<4,>=2.5 in c:\\users\\diasd\\anaconda3\\envs\\chatbot\\lib\\site-packages (from requests<3,>=2.32.2->yt_dlp) (3.7)\n",
      "Requirement already satisfied: pydub in c:\\users\\diasd\\anaconda3\\envs\\chatbot\\lib\\site-packages (0.25.1)\n",
      "Requirement already satisfied: ffmpeg in c:\\users\\diasd\\anaconda3\\envs\\chatbot\\lib\\site-packages (1.4)\n",
      "Requirement already satisfied: ffprobe in c:\\users\\diasd\\anaconda3\\envs\\chatbot\\lib\\site-packages (0.5)\n"
     ]
    }
   ],
   "source": [
    "! pip install yt_dlp\n",
    "! pip install pydub\n",
    "! pip install ffmpeg\n",
    "! pip install ffprobe"
   ]
  },
  {
   "cell_type": "code",
   "execution_count": 12,
   "metadata": {},
   "outputs": [
    {
     "name": "stdout",
     "output_type": "stream",
     "text": [
      "[youtube] Extracting URL: https://www.youtube.com/watch?v=yoHS2T32Z5o&pp=ygUNaG9sZCBvbiBhZGVsZQ%3D%3D\n",
      "[youtube] yoHS2T32Z5o: Downloading webpage\n",
      "[youtube] yoHS2T32Z5o: Downloading ios player API JSON\n",
      "[youtube] yoHS2T32Z5o: Downloading web creator player API JSON\n",
      "[youtube] yoHS2T32Z5o: Downloading m3u8 information\n",
      "[info] yoHS2T32Z5o: Downloading 1 format(s): 140\n",
      "[download] docs\\youtube\\Adele - Hold On (Official Lyric Video).m4a has already been downloaded\n",
      "[download] 100% of    5.66MiB\n",
      "[ExtractAudio] Not converting audio docs\\youtube\\Adele - Hold On (Official Lyric Video).m4a; file is already in target format m4a\n",
      "Transcribing part 1!\n"
     ]
    }
   ],
   "source": [
    "url = \"https://www.youtube.com/watch?v=yoHS2T32Z5o&pp=ygUNaG9sZCBvbiBhZGVsZQ%3D%3D\"\n",
    "save_dir = \"docs/youtube/\"\n",
    "loader =  GenericLoader(\n",
    "    YoutubeAudioLoader([url], save_dir),\n",
    "    OpenAIWhisperParser()\n",
    ")\n",
    "docs = loader.load()"
   ]
  },
  {
   "cell_type": "code",
   "execution_count": 14,
   "metadata": {},
   "outputs": [
    {
     "data": {
      "text/plain": [
       "[Document(metadata={'source': 'docs\\\\youtube\\\\Adele - Hold On (Official Lyric Video).m4a', 'chunk': 0}, page_content=\"Oh, you are still strong Love will soon come Just hold on Oh, what have I done yet again? Have I not learned anything? I don't want to live in chaos It's like a ride that I want to get off It's hard to hold on to who I am When I'm stumbling in the dark for a hand I am so tired of battling With myself and no chance to win Oh, let time be patient Let pain be gracious Just hold on I swear to God I am such a mess The harder that I try, I regress I'm my own worst enemy Right now I truly hate being me Every day feels like the road I'm on Might just open up and swallow me whole How do I feel so mighty small When I'm struggling to feel at all? Just hold on Let time be patient You are still strong Let pain be gracious Just hold on Sometimes loneliness is the only rest we get And the emptiness actually lets us forget Sometimes forgiveness is easiest in secret So just hold on Let time be patient You are still strong Let pain be gracious Listen girl, baby If you just hold on Hold on, hold on, hold on Just let time be patient Cause you're still strong You're still strong Just be gracious Just hold on If you just hold on Just be patient Just be patient You just hold on You just hold on You just hold on Just hold on Just hold on\")]"
      ]
     },
     "execution_count": 14,
     "metadata": {},
     "output_type": "execute_result"
    }
   ],
   "source": [
    "docs"
   ]
  },
  {
   "cell_type": "code",
   "execution_count": 24,
   "metadata": {},
   "outputs": [
    {
     "data": {
      "text/plain": [
       "\"Oh, you are still strong Love will soon come Just hold on Oh, what have I done yet again? Have I not learned anything? I don't want to live in chaos It's like a ride that I want to get off It's hard to hold on to who I am When I'm stumbling in the dark for a hand I am so tired of battling With myself and no chance to win Oh, let time be patient Let pain be gracious Just hold on I swear to God I am such a mess The harder that I try, I regress I'm my own worst enemy Right now I truly hate being me Every day feels like the road I'm on Might just open up and swallow me whole How do I feel so mighty small When I'm struggling to feel at all? Just hold on Let time be patient You are still strong Let pain be gracious Just hold on Sometimes loneliness is the only rest we get And the emptiness actually lets us forget Sometimes forgiveness is easiest in secret So just hold on Let time be patient You are still strong Let pain be gracious Listen girl, baby If you just hold on Hold on, hold on, hold on Just let time be patient Cause you're still strong You're still strong Just be gracious Just hold on If you just hold on Just be patient Just be patient You just hold on You just hold on You just hold on Just hold on Just hold on\""
      ]
     },
     "execution_count": 24,
     "metadata": {},
     "output_type": "execute_result"
    }
   ],
   "source": [
    "docs[0].page_content"
   ]
  },
  {
   "cell_type": "markdown",
   "metadata": {},
   "source": [
    "# URLs"
   ]
  },
  {
   "cell_type": "code",
   "execution_count": 9,
   "metadata": {},
   "outputs": [],
   "source": [
    "from langchain.document_loaders import WebBaseLoader\n",
    "\n",
    "# Essa é a url do livro Python Fluente\n",
    "loader = WebBaseLoader(\"https://pythonfluente.com/\")\n",
    "docs = loader.load()"
   ]
  },
  {
   "cell_type": "code",
   "execution_count": 15,
   "metadata": {},
   "outputs": [
    {
     "name": "stdout",
     "output_type": "stream",
     "text": [
      "\n",
      "\n",
      "\n",
      "\n",
      "\n",
      "\n",
      "\n",
      "\n",
      "Python Fluente, Segunda Edição (2023)\n",
      "\n",
      "\n",
      "\n",
      "\n",
      "\n",
      "Python Fluente, Segunda Edição (2023)\n",
      "\n",
      "Luciano Ramalho\n",
      "\n",
      "\n",
      "Sumário\n",
      "\n",
      "Prefácio\n",
      "\n",
      "Para quem é esse livro\n",
      "Para quem esse livro não é\n",
      "Como ler este livro\n",
      "Abordagem \"mão na massa\"\n",
      "Ponto de vista: minha perspectiva pessoal\n",
      "Conteúdo na na Web\n",
      "Convenções usadas no livro\n",
      "Usando os exemplos de código\n",
      "O’Reilly Online Learning\n",
      "Como entrar em contato\n",
      "Agradecimentos\n",
      "Sobre esta tradução\n",
      "Histórico das traduções\n",
      "\n",
      "\n",
      "Parte I: Estruturas de dados\n",
      "\n",
      "1. O modelo de dados d\n"
     ]
    }
   ],
   "source": [
    "print(docs[0].page_content[0:500])"
   ]
  }
 ],
 "metadata": {
  "kernelspec": {
   "display_name": "ChatBot",
   "language": "python",
   "name": "python3"
  },
  "language_info": {
   "codemirror_mode": {
    "name": "ipython",
    "version": 3
   },
   "file_extension": ".py",
   "mimetype": "text/x-python",
   "name": "python",
   "nbconvert_exporter": "python",
   "pygments_lexer": "ipython3",
   "version": "3.12.4"
  }
 },
 "nbformat": 4,
 "nbformat_minor": 2
}
